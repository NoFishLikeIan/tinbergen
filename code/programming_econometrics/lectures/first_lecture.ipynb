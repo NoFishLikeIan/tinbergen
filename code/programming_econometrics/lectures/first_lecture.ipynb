{
 "cells": [
  {
   "cell_type": "markdown",
   "metadata": {},
   "source": [
    "# Computing powers"
   ]
  },
  {
   "cell_type": "code",
   "execution_count": 22,
   "metadata": {},
   "outputs": [],
   "source": [
    "import numpy as np"
   ]
  },
  {
   "cell_type": "code",
   "execution_count": 38,
   "metadata": {},
   "outputs": [],
   "source": [
    "from functools import reduce"
   ]
  },
  {
   "cell_type": "markdown",
   "metadata": {},
   "source": [
    "### Required structure\n"
   ]
  },
  {
   "cell_type": "code",
   "execution_count": 65,
   "metadata": {},
   "outputs": [],
   "source": [
    "def foo(bar, chi = 2):\n",
    "    '''\n",
    "    Purpose:\n",
    "        Does foo\n",
    "    \n",
    "    Input:\n",
    "        bar:    double, a nice bar down the street\n",
    "        chi:    integer, latte\n",
    "        \n",
    "    Return value:\n",
    "        result:   double, a crazy result\n",
    "    '''\n",
    "    \n",
    "    res = bar * chi - 2 + 3 \n",
    "    \n",
    "    return 42."
   ]
  },
  {
   "cell_type": "markdown",
   "metadata": {},
   "source": [
    "### Implementation\n"
   ]
  },
  {
   "cell_type": "code",
   "execution_count": 88,
   "metadata": {},
   "outputs": [],
   "source": [
    "def extend_negative_domain(power_fn):\n",
    "    '''\n",
    "    Takes a power function implemented for weak positve\n",
    "    with signature power(base, power)\n",
    "    power and extends for negative values\n",
    "    '''\n",
    "    \n",
    "    def inner(base, power, *args, **kwargs):\n",
    "        if (power < 0):\n",
    "            base, power = 1 / base, abs(power)\n",
    "            \n",
    "        return power_fn(base, power, *args, **kwargs)\n",
    "    \n",
    "    return inner"
   ]
  },
  {
   "cell_type": "code",
   "execution_count": 89,
   "metadata": {},
   "outputs": [],
   "source": [
    "@extend_negative_domain\n",
    "def recursive_power(base: float, power: int) -> float:\n",
    "        \n",
    "    if (power == 0):\n",
    "        return 1\n",
    "    \n",
    "    return base * recursive_power(base, power-1)"
   ]
  },
  {
   "cell_type": "code",
   "execution_count": 78,
   "metadata": {},
   "outputs": [],
   "source": [
    "@extend_negative_domain\n",
    "def for_power(base, power):\n",
    "    result = 1\n",
    "    for _ in range(power):\n",
    "        result *= base\n",
    "        \n",
    "    return result"
   ]
  },
  {
   "cell_type": "code",
   "execution_count": 79,
   "metadata": {},
   "outputs": [],
   "source": [
    "@extend_negative_domain\n",
    "def reducer_power(base, power):\n",
    "    return reduce((lambda r, _ : r*base), range(power), 1)"
   ]
  },
  {
   "cell_type": "code",
   "execution_count": 86,
   "metadata": {},
   "outputs": [],
   "source": [
    "@extend_negative_domain\n",
    "def while_power(base, power):\n",
    "    result = 1\n",
    "    temp_power = power\n",
    "    while (temp_power > 0):\n",
    "        result *= base\n",
    "        temp_power -= 1\n",
    "    return result\n",
    "    "
   ]
  },
  {
   "cell_type": "code",
   "execution_count": 91,
   "metadata": {},
   "outputs": [
    {
     "data": {
      "text/plain": [
       "0.5"
      ]
     },
     "execution_count": 91,
     "metadata": {},
     "output_type": "execute_result"
    }
   ],
   "source": [
    "recursive_power(power=-1, base=2)"
   ]
  },
  {
   "cell_type": "code",
   "execution_count": null,
   "metadata": {},
   "outputs": [],
   "source": []
  }
 ],
 "metadata": {
  "kernelspec": {
   "display_name": "Python 3",
   "language": "python",
   "name": "python3"
  },
  "language_info": {
   "codemirror_mode": {
    "name": "ipython",
    "version": 3
   },
   "file_extension": ".py",
   "mimetype": "text/x-python",
   "name": "python",
   "nbconvert_exporter": "python",
   "pygments_lexer": "ipython3",
   "version": "3.7.3"
  }
 },
 "nbformat": 4,
 "nbformat_minor": 2
}
