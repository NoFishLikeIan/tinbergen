{
 "cells": [
  {
   "cell_type": "code",
   "execution_count": 86,
   "metadata": {},
   "outputs": [],
   "source": [
    "import numpy as np\n",
    "import pandas as pd\n",
    "\n",
    "from scipy import stats"
   ]
  },
  {
   "cell_type": "markdown",
   "metadata": {},
   "source": [
    "## Setup"
   ]
  },
  {
   "cell_type": "code",
   "execution_count": 87,
   "metadata": {},
   "outputs": [],
   "source": [
    "from collections import defaultdict\n",
    "from itertools import product\n",
    "from pprint import pprint\n",
    "\n",
    "nested_dict = lambda: defaultdict(nested_dict)\n"
   ]
  },
  {
   "cell_type": "code",
   "execution_count": 76,
   "metadata": {},
   "outputs": [],
   "source": [
    "np.random.seed(11148705)"
   ]
  },
  {
   "cell_type": "code",
   "execution_count": 77,
   "metadata": {},
   "outputs": [],
   "source": [
    "n_data_gen = lambda n: np.random.normal(size=n)\n",
    "t_data_gen = lambda n: np.random.standard_t(2, size=n)"
   ]
  },
  {
   "cell_type": "code",
   "execution_count": 88,
   "metadata": {},
   "outputs": [],
   "source": [
    "generators = [('normal', n_data_gen), ('t-student', t_data_gen)]\n",
    "statistics = [('mean', np.mean), ('median', np.median), ('standard_deviation', np.std), ('jarque_bera', stats.jarque_bera)]"
   ]
  },
  {
   "cell_type": "markdown",
   "metadata": {},
   "source": [
    "## Part a."
   ]
  },
  {
   "cell_type": "code",
   "execution_count": 89,
   "metadata": {},
   "outputs": [],
   "source": [
    "def gen_mean_median_data(samples, generators=generators, statistics=statistics):\n",
    "    \n",
    "    report = nested_dict()\n",
    "    generated_data = []\n",
    "    \n",
    "    for size, generator in product(samples, generators):\n",
    "        distr, fn_d = generator\n",
    "        data = fn_d(size)\n",
    "        \n",
    "        for statistic_name, stats_fn in statistics:\n",
    "            value = stats_fn(data)\n",
    "            report[distr][f'n {size}'][statistic_name] = value\n",
    "            \n",
    "        generated_data.append(data)\n",
    "        \n",
    "    return default_to_regular(report), generated_data"
   ]
  },
  {
   "cell_type": "code",
   "execution_count": 90,
   "metadata": {},
   "outputs": [],
   "source": [
    "r, generated_data = gen_mean_median_data([10, 25, 100, 500, 1000])"
   ]
  },
  {
   "cell_type": "code",
   "execution_count": 91,
   "metadata": {},
   "outputs": [
    {
     "name": "stdout",
     "output_type": "stream",
     "text": [
      "{'normal': {'n 10': {'jarque_bera': (1.7113305888084767, 0.42500034665287123),\n",
      "                     'mean': -0.0812457577174446,\n",
      "                     'median': 0.174719596271535,\n",
      "                     'standard_deviation': 0.8370429986867847},\n",
      "            'n 100': {'jarque_bera': (1.9293327280114163, 0.38111033065453637),\n",
      "                      'mean': 0.09169782380369242,\n",
      "                      'median': -0.035523679917348026,\n",
      "                      'standard_deviation': 0.9242840465034093},\n",
      "            'n 1000': {'jarque_bera': (1.125347854429604, 0.5696837326088338),\n",
      "                       'mean': 0.011147980486771798,\n",
      "                       'median': -0.008867533659095208,\n",
      "                       'standard_deviation': 1.020322043419017},\n",
      "            'n 25': {'jarque_bera': (0.2788011858392027, 0.8698794910870751),\n",
      "                     'mean': -0.2735371285525965,\n",
      "                     'median': -0.23439148984940317,\n",
      "                     'standard_deviation': 1.0620627248928816},\n",
      "            'n 500': {'jarque_bera': (1.5098049155520594, 0.4700564628472157),\n",
      "                      'mean': 0.03469701994068923,\n",
      "                      'median': 0.0434795867501311,\n",
      "                      'standard_deviation': 0.9309766989900605}},\n",
      " 't-student': {'n 10': {'jarque_bera': (0.7200239766416818, 0.6976679621535259),\n",
      "                        'mean': 0.17032067188113972,\n",
      "                        'median': 0.27732823282525365,\n",
      "                        'standard_deviation': 1.0600132452701512},\n",
      "               'n 100': {'jarque_bera': (3135.299401923917, 0.0),\n",
      "                         'mean': 0.09879777914602896,\n",
      "                         'median': 0.03040806371781512,\n",
      "                         'standard_deviation': 2.4047573033102108},\n",
      "               'n 1000': {'jarque_bera': (7530.054418963504, 0.0),\n",
      "                          'mean': 0.13420210869851126,\n",
      "                          'median': 0.09367060278610859,\n",
      "                          'standard_deviation': 2.071359159724344},\n",
      "               'n 25': {'jarque_bera': (75.51962733700299, 0.0),\n",
      "                        'mean': 0.22083885809939865,\n",
      "                        'median': -0.08429918207296673,\n",
      "                        'standard_deviation': 2.1007741105557876},\n",
      "               'n 500': {'jarque_bera': (1244540.9419420245, 0.0),\n",
      "                         'mean': -0.02432120926106581,\n",
      "                         'median': 0.018649633332260558,\n",
      "                         'standard_deviation': 3.488055703687315}}}\n"
     ]
    }
   ],
   "source": [
    "pprint(r)"
   ]
  },
  {
   "cell_type": "code",
   "execution_count": null,
   "metadata": {},
   "outputs": [],
   "source": []
  }
 ],
 "metadata": {
  "kernelspec": {
   "display_name": "Python 3",
   "language": "python",
   "name": "python3"
  },
  "language_info": {
   "codemirror_mode": {
    "name": "ipython",
    "version": 3
   },
   "file_extension": ".py",
   "mimetype": "text/x-python",
   "name": "python",
   "nbconvert_exporter": "python",
   "pygments_lexer": "ipython3",
   "version": "3.7.3"
  }
 },
 "nbformat": 4,
 "nbformat_minor": 2
}
