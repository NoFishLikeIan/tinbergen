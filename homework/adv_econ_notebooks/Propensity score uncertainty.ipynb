{
 "cells": [
  {
   "cell_type": "markdown",
   "metadata": {},
   "source": [
    "# Question 5\n",
    "## Assignment I - Advanced Econometrics II"
   ]
  },
  {
   "cell_type": "code",
   "execution_count": 1464,
   "metadata": {},
   "outputs": [
    {
     "data": {
      "application/javascript": [
       "if (!(\"Notification\" in window)) {\n",
       "    alert(\"This browser does not support desktop notifications, so the %%notify magic will not work.\");\n",
       "} else if (Notification.permission !== 'granted' && Notification.permission !== 'denied') {\n",
       "    Notification.requestPermission(function (permission) {\n",
       "        if(!('permission' in Notification)) {\n",
       "            Notification.permission = permission;\n",
       "        }\n",
       "    })\n",
       "}\n"
      ],
      "text/plain": [
       "<IPython.core.display.Javascript object>"
      ]
     },
     "metadata": {},
     "output_type": "display_data"
    }
   ],
   "source": [
    "%reload_ext jupyternotify"
   ]
  },
  {
   "cell_type": "code",
   "execution_count": 755,
   "metadata": {},
   "outputs": [],
   "source": [
    "import numpy as np\n",
    "import matplotlib.pyplot as plt\n",
    "import pandas as pd\n",
    "import seaborn as sns\n",
    "\n",
    "sns.set()"
   ]
  },
  {
   "cell_type": "code",
   "execution_count": 1547,
   "metadata": {},
   "outputs": [],
   "source": [
    "from scipy import stats\n",
    "from sklearn import datasets, linear_model"
   ]
  },
  {
   "cell_type": "code",
   "execution_count": 1548,
   "metadata": {},
   "outputs": [],
   "source": [
    "np.random.seed(11012020)"
   ]
  },
  {
   "cell_type": "markdown",
   "metadata": {},
   "source": [
    "### Data generation process\n",
    "\n",
    "We are going to generate random data of $N$ individuals with $k$ features from a multivariate normal. \n",
    "\n",
    "\\begin{align}\n",
    "\\Sigma &\\in R^{k \\times k} \\\\\n",
    "X &\\sim N(0, \\Sigma) \\\\\n",
    "y_i &= \\beta \\cdot X_i + \\epsilon_i, \\ \\epsilon_i \\sim N(0, 1) \n",
    "\\end{align}\n",
    "\n",
    "Also a probability of treatement $p(X_i) = P(D_i = 1 \\mid X_i)$ as follows, \n",
    "\n",
    "\\begin{align}\n",
    "    p(X) = logistic(X \\cdot \\gamma + \\eta), \\ \\eta \\sim N(0, \\sigma^2_{\\eta}) \\\\\n",
    "\\end{align}\n",
    "\n",
    "where\n",
    "\n",
    "\\begin{align}\n",
    "logistic(X) = (1 + exp(-X))^{-1} \n",
    "\\end{align}"
   ]
  },
  {
   "cell_type": "code",
   "execution_count": 1557,
   "metadata": {},
   "outputs": [],
   "source": [
    "N = 100_000\n",
    "k = 2\n",
    "variance_p = 4\n",
    "gamma = np.array([0.8, 0.3])\n",
    "beta = np.array([1, 5])"
   ]
  },
  {
   "cell_type": "code",
   "execution_count": 1558,
   "metadata": {},
   "outputs": [],
   "source": [
    "def logistic(x):\n",
    "    return 1/(1+np.exp(-x))"
   ]
  },
  {
   "cell_type": "code",
   "execution_count": 1559,
   "metadata": {},
   "outputs": [],
   "source": [
    "def generate_data(N, k, beta = beta, gamma = gamma, sigma_eta = 2):\n",
    "    \n",
    "    cov = sklearn.datasets.make_spd_matrix(k)\n",
    "    mean = np.zeros(N)\n",
    "    X = np.random.multivariate_normal(np.zeros(k), cov, N)\n",
    "    \n",
    "    noise = np.random.normal(0, 1, N)        \n",
    "    y = X@beta + noise\n",
    "    \n",
    "    prob_noise = np.random.normal(0, sigma_eta, N)\n",
    "    prob_vec = logistic(X@gamma + prob_noise)\n",
    "        \n",
    "    D = (np.random.uniform(0, 1, N) < prob_vec).round()\n",
    "    \n",
    "    return X, D, y"
   ]
  },
  {
   "cell_type": "code",
   "execution_count": 1560,
   "metadata": {},
   "outputs": [],
   "source": [
    "X, D, y = generate_data(N, k, sigma_eta=variance_p)"
   ]
  },
  {
   "cell_type": "markdown",
   "metadata": {},
   "source": [
    "### Propensity score estimation\n",
    "\n",
    "Next we are going to fit a logit to estimate the propensity score, \n",
    "\n",
    "\\begin{align}\n",
    "\\hat{p}(X_i) = \\frac{1}{1 + exp(-\\gamma \\cdot(X_i - \\overline{X}_i))} \n",
    "\\end{align}"
   ]
  },
  {
   "cell_type": "code",
   "execution_count": 1561,
   "metadata": {},
   "outputs": [],
   "source": [
    "logit = linear_model.LogisticRegression(solver='lbfgs')"
   ]
  },
  {
   "cell_type": "code",
   "execution_count": 1562,
   "metadata": {},
   "outputs": [],
   "source": [
    "logit.fit_intercept = False\n",
    "model = logit.fit(X, D)"
   ]
  },
  {
   "cell_type": "code",
   "execution_count": 1563,
   "metadata": {},
   "outputs": [],
   "source": [
    "estimated_p = model.predict_proba(X)[:, 0]\n",
    "ordered_p_idx = np.argsort(estimated_p)"
   ]
  },
  {
   "cell_type": "markdown",
   "metadata": {},
   "source": [
    "We can look at the distribution of the $p(X_i)$"
   ]
  },
  {
   "cell_type": "code",
   "execution_count": 1564,
   "metadata": {},
   "outputs": [],
   "source": [
    "def plot_p(sigma):\n",
    "    X, D, y = generate_data(N, k, sigma_eta=sigma)\n",
    "    logit = linear_model.LogisticRegression(solver='lbfgs')\n",
    "    logit.fit_intercept = False\n",
    "    model = logit.fit(X, D)\n",
    "    estimated_p = model.predict_proba(X)[:, 0]\n",
    "    ordered_p_idx = np.argsort(estimated_p)\n",
    "    \n",
    "    plt.figure(figsize=(14,8))\n",
    "    ax = sns.distplot(estimated_p, bins=15, kde=False)\n",
    "\n",
    "    ax.set(xlabel=\"p(X)\")\n",
    "    ax.set_xlim(0, 1)\n",
    "\n",
    "    for boundary in ((n+1) / n_strata for n in range(n_strata - 1)):\n",
    "        ax.axvline(boundary, ls='--', c='r')\n",
    "\n",
    "    plt.show()"
   ]
  },
  {
   "cell_type": "code",
   "execution_count": 1565,
   "metadata": {},
   "outputs": [
    {
     "data": {
      "image/png": "[encoded data removed]",
      "text/plain": [
       "<Figure size 1008x576 with 1 Axes>"
      ]
     },
     "metadata": {},
     "output_type": "display_data"
    }
   ],
   "source": [
    "plt.figure(figsize=(14,8))\n",
    "ax = sns.distplot(estimated_p, kde=False)\n",
    "\n",
    "ax.set(xlabel=\"p(X)\")\n",
    "ax.set_xlim(0, 1)\n",
    "\n",
    "for boundary in ((n+1) / n_strata for n in range(n_strata - 1)):\n",
    "    ax.axvline(boundary, ls='--', c='r')\n",
    "\n",
    "plt.show()"
   ]
  },
  {
   "cell_type": "markdown",
   "metadata": {},
   "source": [
    "### Startification\n",
    "\n",
    "Group data in *strata*, given by similar propensity scores"
   ]
  },
  {
   "cell_type": "code",
   "execution_count": 1541,
   "metadata": {},
   "outputs": [],
   "source": [
    "def stratify(X, D, y, permutation, estimated_p, strata = 5):\n",
    "    N, k = X.shape\n",
    "    \n",
    "    intervals = [(n+1) / strata for n in range(strata - 1)]\n",
    "    split_at = estimated_p[permutation].searchsorted(intervals)\n",
    "    \n",
    "    ordered_X = X[permutation, :]\n",
    "    ordered_y = y[permutation]\n",
    "    ordered_D = D[permutation]\n",
    "    \n",
    "    strata = zip(*(np.split(dataset, split_at) for dataset in [ordered_X, ordered_D, ordered_y]))\n",
    "    \n",
    "    return list(strata)"
   ]
  },
  {
   "cell_type": "code",
   "execution_count": 1542,
   "metadata": {},
   "outputs": [],
   "source": [
    "strata = stratify(X, D, y, ordered_p_idx, estimated_p, strata=5)"
   ]
  },
  {
   "cell_type": "code",
   "execution_count": 1543,
   "metadata": {},
   "outputs": [
    {
     "name": "stdout",
     "output_type": "stream",
     "text": [
      "Sample per stratum: 1217, 2497, 2712, 2364, 1210\n"
     ]
    }
   ],
   "source": [
    "samples = (len(stratum[1]) for stratum in strata)\n",
    "\n",
    "print('Sample per stratum:', ', '.join((str(i) for i in samples)))"
   ]
  },
  {
   "cell_type": "markdown",
   "metadata": {},
   "source": [
    "### Average Treatement Effect, startified\n",
    "\n",
    "Now we are going to estimate the average treatement effect as follows.\n",
    "\n",
    "Let $S$ be the strata, $j \\in S$, and $N_j$ the number of observations in the stratum, then\n",
    "\n",
    "\\begin{align}\n",
    "\\Delta_j &= \\overline{y}_j(1) - \\overline{y}_j(0) \\\\\n",
    "\\Delta &= \\sum_{j}^{S} \\frac{N_j}{N} \\cdot \\Delta_j\n",
    "\\end{align}\n",
    "\n",
    "and the variance of the $j$ stratum and $k$ treatement group as,\n",
    "\n",
    "\\begin{align}\n",
    "V_{j,k} &= \\frac{S^2_{j,k}}{N_{j,k}} \\\\\n",
    "V &= \\sum_{j}^{S} \\frac{N_j}{N} \\cdot  (V_{j,0} + V_{j,1})\n",
    "\\end{align}"
   ]
  },
  {
   "cell_type": "code",
   "execution_count": 1544,
   "metadata": {},
   "outputs": [],
   "source": [
    "def ate(strata, pop_N):\n",
    "    delta = 0\n",
    "    variance = 0\n",
    "    \n",
    "    N_strata = len(strata)\n",
    "    \n",
    "    for X, D, y in strata:\n",
    "            \n",
    "        N = y.shape[0]\n",
    "        \n",
    "        if N == 0:\n",
    "            continue\n",
    "        \n",
    "            \n",
    "        stratum_weight =  N / pop_N \n",
    "        \n",
    "        N_squared = np.square(N)    \n",
    "        \n",
    "        y_1 = y[np.where(D == 1)[0]]\n",
    "        y_0 = y[np.where(D == 0)[0]]\n",
    "        \n",
    "        N_0 = y_0.shape[0]\n",
    "        N_1 = y_1.shape[0]\n",
    "        \n",
    "        delta_j =  (np.mean(y_1)  - np.mean(y_0))\n",
    "        \n",
    "        variance_j = (np.var(y_0) / N_0) + (np.var(y_1) / N_1)\n",
    "        \n",
    "        delta += (delta_j  * stratum_weight)\n",
    "        variance += (variance_j *  np.square(stratum_weight))\n",
    "                \n",
    "    return delta, variance\n",
    "        "
   ]
  },
  {
   "cell_type": "code",
   "execution_count": 1545,
   "metadata": {},
   "outputs": [],
   "source": [
    "delta_strata, var_strata = ate(strata, N)"
   ]
  },
  {
   "cell_type": "code",
   "execution_count": 1546,
   "metadata": {},
   "outputs": [
    {
     "name": "stdout",
     "output_type": "stream",
     "text": [
      "Not using strata, delta=1.4854573810117322 and var=3.932469260215357\n",
      "Using strata, delta=0.18852696016197612 and var=0.0048677682974213555\n"
     ]
    }
   ],
   "source": [
    "print(f'Not using strata, delta={delta} and var={variance}')\n",
    "print(f'Using strata, delta={delta_strata} and var={var_strata}')"
   ]
  },
  {
   "cell_type": "markdown",
   "metadata": {},
   "source": [
    "### Monte Carlo simulation\n",
    "\n",
    "The following Monte Carlo simulation tries and find the effect of increasing $\\sigma^2_{\\eta}$ on the test,\n",
    "\n",
    "\\begin{align}\n",
    "H_0&: \\Delta_{ATE} = 0\\\\\n",
    "H_1&: \\Delta_{ATE} \\neq 0\n",
    "\\end{align}\n",
    "\n",
    "In particular increasing $\\sigma^2_{\\eta}$, increases the noise in $p(X_i)$ hence making the strata selection less dependent on $X_i$. We expect therefore to reject $H_0$ more often if $\\sigma^2_{\\eta}$ is relatively low and to not reject otherwise.\n",
    "\n",
    "We are going to simulate with $\\sigma^2_{\\eta, i} \\in S$, where $S$ is a geometrically spaced sequence of order 15, between 1 and 10."
   ]
  },
  {
   "cell_type": "code",
   "execution_count": 1473,
   "metadata": {},
   "outputs": [],
   "source": [
    "sigma_nus = [0.2] # np.geomspace(0.2, 2, 5, endpoint=True)"
   ]
  },
  {
   "cell_type": "markdown",
   "metadata": {},
   "source": [
    "The single `estimate` function simply combines the whole procedure we have seen above."
   ]
  },
  {
   "cell_type": "code",
   "execution_count": 1474,
   "metadata": {},
   "outputs": [],
   "source": [
    "def estimate(N, k, variance_p, n_strata = 5):\n",
    "    X, D, y = generate_data(N, k, sigma_eta=variance_p)\n",
    "    \n",
    "    # standard\n",
    "    delta = np.mean(y[np.where(D == 1)[0]]) - np.mean(y[np.where(D == 0)[0]])\n",
    "    variance = np.var(y[np.where(D == 1)[0]]) + np.var(y[np.where(D == 0)[0]])\n",
    "    \n",
    "    \n",
    "    # stratification\n",
    "    logit = linear_model.LogisticRegression(solver='lbfgs')\n",
    "    logit.fit_intercept = False\n",
    "    model = logit.fit(X, D)\n",
    "    \n",
    "    estimated_p = model.predict_proba(X)[:, 0]\n",
    "    ordered_p_idx = np.argsort(estimated_p)\n",
    "    \n",
    "    strata = stratify(X, D, y, ordered_p_idx, estimated_p, n_strata)\n",
    "    \n",
    "    delta_strata, var_strata = ate(strata, N)\n",
    "    \n",
    "    return delta, variance, delta_strata, var_strata"
   ]
  },
  {
   "cell_type": "code",
   "execution_count": 1475,
   "metadata": {},
   "outputs": [],
   "source": [
    "def test_against_zero(mean, std, t):\n",
    "    upper = mean + t*std\n",
    "    lower = mean - t*std\n",
    "    \n",
    "    return int(upper < 0 or lower > 0)\n",
    "    "
   ]
  },
  {
   "cell_type": "markdown",
   "metadata": {},
   "source": [
    "The initialization parameters are"
   ]
  },
  {
   "cell_type": "code",
   "execution_count": 1476,
   "metadata": {},
   "outputs": [],
   "source": [
    "params = {\n",
    "    'N': 10_000,\n",
    "    'k': 2,\n",
    "    'p_variances': sigma_nus,\n",
    "    'iterations': 1_000,\n",
    "    'alpha': 0.05\n",
    "}"
   ]
  },
  {
   "attachments": {},
   "cell_type": "markdown",
   "metadata": {},
   "source": [
    "The simulation works as follows: for every $\\sigma^2_{\\eta, i} \\in$ `sigma_nus`, it computes the $\\Delta_{ATE, stratified}$ and $Var[\\Delta_{ATE, stratified}]$, as shown before and applies the aforementioned tests with $\\alpha = 0.05$. \n",
    "\n",
    "This is done `params['iterations']` times and the amount of rejections are recorded. Then, let `strata_rejections` be the vector with the number of rejcetions, by computing `strata_rejections / params['iterations']`, we can find the empirical test size for every $\\sigma^2_{\\eta, i}$, and compare it with $alpha$."
   ]
  },
  {
   "cell_type": "code",
   "execution_count": 1479,
   "metadata": {},
   "outputs": [],
   "source": [
    "def monte_carlo_test(p_variances = [], N = 10_000, k = 10, iterations = 1, alpha=0.05, verbose = False):\n",
    "    \n",
    "    strata_rejections = []\n",
    "    normal_rejections = []\n",
    "    \n",
    "    t = -scistat.norm.ppf(alpha)\n",
    "    \n",
    "    for n, p_var in enumerate(p_variances):\n",
    "                \n",
    "        if verbose:\n",
    "            print(f'Simulating {n+1}/{len(p_variances)}:')\n",
    "            \n",
    "        out_of_CI_normal = 0\n",
    "        out_of_CI_strata = 0\n",
    "        \n",
    "        for i in range(iterations):\n",
    "            if verbose:\n",
    "                print(f'--> Iteration {i+1}/{iterations}', end='\\r')\n",
    "            \n",
    "            delta, var, delta_strata, var_strata = estimate(N, k, p_var, n_strata=5)\n",
    "            \n",
    "            reject = test_against_zero(delta, np.sqrt(var), t)\n",
    "            reject_strata = test_against_zero(delta_strata, np.sqrt(var_strata), t)\n",
    "            \n",
    "            out_of_CI_normal += reject\n",
    "            out_of_CI_strata += reject_strata\n",
    "                        \n",
    "            \n",
    "        normal_rejections.append(out_of_CI_normal)\n",
    "        strata_rejections.append(out_of_CI_strata)\n",
    "        \n",
    "        if verbose:\n",
    "            print('\\n')\n",
    "        \n",
    "    return normal_rejections, strata_rejections"
   ]
  },
  {
   "cell_type": "code",
   "execution_count": 1478,
   "metadata": {},
   "outputs": [
    {
     "name": "stdout",
     "output_type": "stream",
     "text": [
      "Simulating 1/1:\n",
      "> <ipython-input-1477-6c788c7a3645>(31)monte_carlo_test()\n",
      "-> normal_rejections.append(out_of_CI_normal)\n",
      "(Pdb) out_of_CI_strata\n",
      "668\n",
      "(Pdb) delta_strata\n",
      "0.26370434777955964\n",
      "(Pdb) var_strata\n",
      "0.006141129155831527\n",
      "(Pdb) quit()\n"
     ]
    },
    {
     "ename": "BdbQuit",
     "evalue": "",
     "output_type": "error",
     "traceback": [
      "\u001b[0;31m---------------------------------------------------------------------------\u001b[0m",
      "\u001b[0;31mBdbQuit\u001b[0m                                   Traceback (most recent call last)",
      "\u001b[0;32m<ipython-input-1478-08069e58e3c4>\u001b[0m in \u001b[0;36m<module>\u001b[0;34m\u001b[0m\n\u001b[0;32m----> 1\u001b[0;31m \u001b[0mnormal_rejections\u001b[0m\u001b[0;34m,\u001b[0m \u001b[0mstrata_rejections\u001b[0m \u001b[0;34m=\u001b[0m \u001b[0mmonte_carlo_test\u001b[0m\u001b[0;34m(\u001b[0m\u001b[0;34m**\u001b[0m\u001b[0mparams\u001b[0m\u001b[0;34m,\u001b[0m \u001b[0mverbose\u001b[0m\u001b[0;34m=\u001b[0m\u001b[0;32mTrue\u001b[0m\u001b[0;34m)\u001b[0m\u001b[0;34m\u001b[0m\u001b[0;34m\u001b[0m\u001b[0m\n\u001b[0m",
      "\u001b[0;32m<ipython-input-1477-6c788c7a3645>\u001b[0m in \u001b[0;36mmonte_carlo_test\u001b[0;34m(p_variances, N, k, iterations, alpha, verbose)\u001b[0m\n\u001b[1;32m     29\u001b[0m \u001b[0;34m\u001b[0m\u001b[0m\n\u001b[1;32m     30\u001b[0m \u001b[0;34m\u001b[0m\u001b[0m\n\u001b[0;32m---> 31\u001b[0;31m         \u001b[0mnormal_rejections\u001b[0m\u001b[0;34m.\u001b[0m\u001b[0mappend\u001b[0m\u001b[0;34m(\u001b[0m\u001b[0mout_of_CI_normal\u001b[0m\u001b[0;34m)\u001b[0m\u001b[0;34m\u001b[0m\u001b[0;34m\u001b[0m\u001b[0m\n\u001b[0m\u001b[1;32m     32\u001b[0m         \u001b[0mstrata_rejections\u001b[0m\u001b[0;34m.\u001b[0m\u001b[0mappend\u001b[0m\u001b[0;34m(\u001b[0m\u001b[0mout_of_CI_strata\u001b[0m\u001b[0;34m)\u001b[0m\u001b[0;34m\u001b[0m\u001b[0;34m\u001b[0m\u001b[0m\n\u001b[1;32m     33\u001b[0m \u001b[0;34m\u001b[0m\u001b[0m\n",
      "\u001b[0;32m<ipython-input-1477-6c788c7a3645>\u001b[0m in \u001b[0;36mmonte_carlo_test\u001b[0;34m(p_variances, N, k, iterations, alpha, verbose)\u001b[0m\n\u001b[1;32m     29\u001b[0m \u001b[0;34m\u001b[0m\u001b[0m\n\u001b[1;32m     30\u001b[0m \u001b[0;34m\u001b[0m\u001b[0m\n\u001b[0;32m---> 31\u001b[0;31m         \u001b[0mnormal_rejections\u001b[0m\u001b[0;34m.\u001b[0m\u001b[0mappend\u001b[0m\u001b[0;34m(\u001b[0m\u001b[0mout_of_CI_normal\u001b[0m\u001b[0;34m)\u001b[0m\u001b[0;34m\u001b[0m\u001b[0;34m\u001b[0m\u001b[0m\n\u001b[0m\u001b[1;32m     32\u001b[0m         \u001b[0mstrata_rejections\u001b[0m\u001b[0;34m.\u001b[0m\u001b[0mappend\u001b[0m\u001b[0;34m(\u001b[0m\u001b[0mout_of_CI_strata\u001b[0m\u001b[0;34m)\u001b[0m\u001b[0;34m\u001b[0m\u001b[0;34m\u001b[0m\u001b[0m\n\u001b[1;32m     33\u001b[0m \u001b[0;34m\u001b[0m\u001b[0m\n",
      "\u001b[0;32m~/anaconda3/lib/python3.7/bdb.py\u001b[0m in \u001b[0;36mtrace_dispatch\u001b[0;34m(self, frame, event, arg)\u001b[0m\n\u001b[1;32m     86\u001b[0m             \u001b[0;32mreturn\u001b[0m \u001b[0;31m# None\u001b[0m\u001b[0;34m\u001b[0m\u001b[0;34m\u001b[0m\u001b[0m\n\u001b[1;32m     87\u001b[0m         \u001b[0;32mif\u001b[0m \u001b[0mevent\u001b[0m \u001b[0;34m==\u001b[0m \u001b[0;34m'line'\u001b[0m\u001b[0;34m:\u001b[0m\u001b[0;34m\u001b[0m\u001b[0;34m\u001b[0m\u001b[0m\n\u001b[0;32m---> 88\u001b[0;31m             \u001b[0;32mreturn\u001b[0m \u001b[0mself\u001b[0m\u001b[0;34m.\u001b[0m\u001b[0mdispatch_line\u001b[0m\u001b[0;34m(\u001b[0m\u001b[0mframe\u001b[0m\u001b[0;34m)\u001b[0m\u001b[0;34m\u001b[0m\u001b[0;34m\u001b[0m\u001b[0m\n\u001b[0m\u001b[1;32m     89\u001b[0m         \u001b[0;32mif\u001b[0m \u001b[0mevent\u001b[0m \u001b[0;34m==\u001b[0m \u001b[0;34m'call'\u001b[0m\u001b[0;34m:\u001b[0m\u001b[0;34m\u001b[0m\u001b[0;34m\u001b[0m\u001b[0m\n\u001b[1;32m     90\u001b[0m             \u001b[0;32mreturn\u001b[0m \u001b[0mself\u001b[0m\u001b[0;34m.\u001b[0m\u001b[0mdispatch_call\u001b[0m\u001b[0;34m(\u001b[0m\u001b[0mframe\u001b[0m\u001b[0;34m,\u001b[0m \u001b[0marg\u001b[0m\u001b[0;34m)\u001b[0m\u001b[0;34m\u001b[0m\u001b[0;34m\u001b[0m\u001b[0m\n",
      "\u001b[0;32m~/anaconda3/lib/python3.7/bdb.py\u001b[0m in \u001b[0;36mdispatch_line\u001b[0;34m(self, frame)\u001b[0m\n\u001b[1;32m    111\u001b[0m         \u001b[0;32mif\u001b[0m \u001b[0mself\u001b[0m\u001b[0;34m.\u001b[0m\u001b[0mstop_here\u001b[0m\u001b[0;34m(\u001b[0m\u001b[0mframe\u001b[0m\u001b[0;34m)\u001b[0m \u001b[0;32mor\u001b[0m \u001b[0mself\u001b[0m\u001b[0;34m.\u001b[0m\u001b[0mbreak_here\u001b[0m\u001b[0;34m(\u001b[0m\u001b[0mframe\u001b[0m\u001b[0;34m)\u001b[0m\u001b[0;34m:\u001b[0m\u001b[0;34m\u001b[0m\u001b[0;34m\u001b[0m\u001b[0m\n\u001b[1;32m    112\u001b[0m             \u001b[0mself\u001b[0m\u001b[0;34m.\u001b[0m\u001b[0muser_line\u001b[0m\u001b[0;34m(\u001b[0m\u001b[0mframe\u001b[0m\u001b[0;34m)\u001b[0m\u001b[0;34m\u001b[0m\u001b[0;34m\u001b[0m\u001b[0m\n\u001b[0;32m--> 113\u001b[0;31m             \u001b[0;32mif\u001b[0m \u001b[0mself\u001b[0m\u001b[0;34m.\u001b[0m\u001b[0mquitting\u001b[0m\u001b[0;34m:\u001b[0m \u001b[0;32mraise\u001b[0m \u001b[0mBdbQuit\u001b[0m\u001b[0;34m\u001b[0m\u001b[0;34m\u001b[0m\u001b[0m\n\u001b[0m\u001b[1;32m    114\u001b[0m         \u001b[0;32mreturn\u001b[0m \u001b[0mself\u001b[0m\u001b[0;34m.\u001b[0m\u001b[0mtrace_dispatch\u001b[0m\u001b[0;34m\u001b[0m\u001b[0;34m\u001b[0m\u001b[0m\n\u001b[1;32m    115\u001b[0m \u001b[0;34m\u001b[0m\u001b[0m\n",
      "\u001b[0;31mBdbQuit\u001b[0m: "
     ]
    }
   ],
   "source": [
    "normal_rejections, strata_rejections = monte_carlo_test(**params, verbose=True)"
   ]
  },
  {
   "cell_type": "code",
   "execution_count": 1467,
   "metadata": {},
   "outputs": [],
   "source": [
    "empirical_size = [rej/params[\"iterations\"] for rej in strata_rejections]"
   ]
  },
  {
   "cell_type": "markdown",
   "metadata": {},
   "source": [
    "### Results\n",
    "\n",
    "From the below graph it is clear that the empirical size (i.e. the number of rejections out of the number of iterations) is greater than $\\alpha$ if $\\sigma^2_{\\eta} < 1$ and it is smaller than $\\alpha$ if  $\\sigma^2_{\\eta} \\geq 2$, hence the uncertainty in the propensity score can lead to a higher probability of Type I error than intended."
   ]
  },
  {
   "cell_type": "code",
   "execution_count": 1468,
   "metadata": {},
   "outputs": [
    {
     "data": {
      "image/png": "[encoded data removed]",
      "text/plain": [
       "<Figure size 1008x576 with 1 Axes>"
      ]
     },
     "metadata": {},
     "output_type": "display_data"
    }
   ],
   "source": [
    "plt.figure(figsize=(14,8))\n",
    "ax = sns.lineplot(x=sigma_nus, y=empirical_size)\n",
    "\n",
    "ax.axhline(params['alpha'], ls='--', c='r')\n",
    "ax.set(xlabel='Variance of P(D = 1)| X', ylabel='Empirical size')\n",
    "\n",
    "plt.show()"
   ]
  },
  {
   "cell_type": "code",
   "execution_count": 1469,
   "metadata": {},
   "outputs": [
    {
     "data": {
      "application/javascript": [
       "$(document).ready(\n",
       "    function() {\n",
       "        function appendUniqueDiv(){\n",
       "            // append a div with our uuid so we can check that it's already\n",
       "            // been sent and avoid duplicates on page reload\n",
       "            var notifiedDiv = document.createElement(\"div\")\n",
       "            notifiedDiv.id = \"8c7d11ca-bebb-4e9b-8b91-9d8ed80c21c0\"\n",
       "            element.append(notifiedDiv)\n",
       "        }\n",
       "\n",
       "        // only send notifications if the pageload is complete; this will\n",
       "        // help stop extra notifications when a saved notebook is loaded,\n",
       "        // which during testing gives us state \"interactive\", not \"complete\"\n",
       "        if (document.readyState === 'complete') {\n",
       "            // check for the div that signifies that the notification\n",
       "            // was already sent\n",
       "            if (document.getElementById(\"8c7d11ca-bebb-4e9b-8b91-9d8ed80c21c0\") === null) {\n",
       "                var notificationPayload = {\"requireInteraction\": false, \"icon\": \"/static/base/images/favicon.ico\", \"body\": \"Cell execution has finished!\"};\n",
       "                if (Notification.permission !== 'denied') {\n",
       "                    if (Notification.permission !== 'granted') { \n",
       "                        Notification.requestPermission(function (permission) {\n",
       "                            if(!('permission' in Notification)) {\n",
       "                                Notification.permission = permission\n",
       "                            }\n",
       "                        })\n",
       "                    }\n",
       "                    if (Notification.permission === 'granted') {\n",
       "                    var notification = new Notification(\"Jupyter Notebook\", notificationPayload)\n",
       "                    appendUniqueDiv()\n",
       "                    notification.onclick = function () {\n",
       "                        window.focus();\n",
       "                        this.close();\n",
       "                        };\n",
       "                    } \n",
       "                }     \n",
       "            }\n",
       "        }\n",
       "    }\n",
       ")\n"
      ],
      "text/plain": [
       "<IPython.core.display.Javascript object>"
      ]
     },
     "metadata": {},
     "output_type": "display_data"
    }
   ],
   "source": [
    "%notify"
   ]
  },
  {
   "cell_type": "code",
   "execution_count": null,
   "metadata": {},
   "outputs": [],
   "source": []
  }
 ],
 "metadata": {
  "kernelspec": {
   "display_name": "Python 3",
   "language": "python",
   "name": "python3"
  }
 },
 "nbformat": 4,
 "nbformat_minor": 2
}
