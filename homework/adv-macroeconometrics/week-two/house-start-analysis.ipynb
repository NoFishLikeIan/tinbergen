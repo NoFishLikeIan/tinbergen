{
 "cells": [
  {
   "cell_type": "code",
   "execution_count": 1,
   "metadata": {},
   "outputs": [],
   "source": [
    "import pandas as pd\n",
    "import numpy as np"
   ]
  },
  {
   "cell_type": "code",
   "execution_count": 2,
   "metadata": {},
   "outputs": [],
   "source": [
    "from utils import plotting, transform, ingest\n",
    "from forecast import stats, univariate"
   ]
  },
  {
   "cell_type": "code",
   "execution_count": 3,
   "metadata": {},
   "outputs": [],
   "source": [
    "from dateutil.relativedelta import relativedelta"
   ]
  },
  {
   "cell_type": "code",
   "execution_count": 4,
   "metadata": {},
   "outputs": [],
   "source": [
    "import seaborn as sns\n",
    "import matplotlib.pyplot as plt\n",
    "\n",
    "sns.set(rc={\"figure.figsize\": (11, 8.3)})"
   ]
  },
  {
   "cell_type": "code",
   "execution_count": 5,
   "metadata": {},
   "outputs": [],
   "source": [
    "cols = [\"HOUST\", \"PERMIT\"]\n",
    "regions = [\"NE\", \"MW\", \"S\", \"W\"]\n",
    "\n",
    "regional_hst = [f\"HOUST{r}\" for r in regions]"
   ]
  },
  {
   "cell_type": "code",
   "execution_count": 6,
   "metadata": {},
   "outputs": [
    {
     "name": "stdout",
     "output_type": "stream",
     "text": [
      "Using cached data at data/fred_data.csv\n"
     ]
    }
   ],
   "source": [
    "raw_df = ingest.import_fred()\n",
    "\n",
    "parsed_df = transform.standard(raw_df)"
   ]
  },
  {
   "cell_type": "code",
   "execution_count": 41,
   "metadata": {},
   "outputs": [],
   "source": [
    "lags = 36\n",
    "\n",
    "national_houst = parsed_df[\"HOUST\"]\n",
    "\n",
    "train = national_houst[:\"1999-12-01\"]\n",
    "test = national_houst[\"2000-01-01\":]"
   ]
  },
  {
   "cell_type": "code",
   "execution_count": null,
   "metadata": {},
   "outputs": [],
   "source": [
    "predictor = univariate.rf_forecast(train, lags = lags, n_jobs = 3)"
   ]
  },
  {
   "cell_type": "code",
   "execution_count": null,
   "metadata": {},
   "outputs": [],
   "source": [
    "last_day = train.index[-1]\n",
    "append_period = last_day - relativedelta(months=lags - 1)\n",
    "first_lags = train[append_period:last_day].to_numpy()"
   ]
  },
  {
   "cell_type": "code",
   "execution_count": null,
   "metadata": {},
   "outputs": [],
   "source": [
    "def iterative_forecast(pred, init, periods = 1):\n",
    "    \n",
    "    X = init.copy()\n",
    "    y_hat = np.zeros((periods, 3))\n",
    "    \n",
    "    for i in range(periods):\n",
    "        forecast = pred(X)\n",
    "        \n",
    "        X[:-1] = X[1:]\n",
    "        X[-1] = forecast[1]\n",
    "        \n",
    "        y_hat[i] = forecast\n",
    "            \n",
    "    return y_hat"
   ]
  },
  {
   "cell_type": "code",
   "execution_count": null,
   "metadata": {},
   "outputs": [],
   "source": [
    "y_hat = iterative_forecast(predictor, first_lags, lags)"
   ]
  },
  {
   "cell_type": "code",
   "execution_count": null,
   "metadata": {},
   "outputs": [],
   "source": [
    "df_forecast = pd.DataFrame(y_hat, columns = [\"lb\", \"y\", \"ub\"], index=test.index[:len(y_hat)])"
   ]
  },
  {
   "cell_type": "code",
   "execution_count": null,
   "metadata": {},
   "outputs": [],
   "source": [
    "fig, ax = plt.subplots()\n",
    "\n",
    "sns.lineplot(data=train.loc[\"2007-01-01\":], ax = ax, color =\"r\", marker = \"o\")\n",
    "sns.lineplot(data=test.iloc[:len(df_forecast)], ax = ax, color=\"r\", marker = \"o\")\n",
    "\n",
    "plt.axvline(test.index[0], linestyle=\"--\")\n",
    "\n",
    "sns.lineplot(data=df_forecast[\"y\"], ax = ax, color=\"g\", linestyle=\"--\", marker = \"o\")\n",
    "sns.lineplot(data=df_forecast[\"lb\"], ax = ax, color=\"b\", alpha = 0.5)\n",
    "sns.lineplot(data=df_forecast[\"ub\"], ax = ax, color=\"b\", alpha = 0.5)\n",
    "\n",
    "ax.fill_between(df_forecast.index, df_forecast[\"lb\"], df_forecast[\"ub\"], df_forecast[\"lb\"], alpha=0.2)\n",
    "\n",
    "fig.show()"
   ]
  },
  {
   "cell_type": "code",
   "execution_count": null,
   "metadata": {},
   "outputs": [],
   "source": [
    "def plot_iter_forecast(predictor, test_data, full_data, init, periods = 1):\n",
    "    y_hat = iterative_forecast(predictor, init, periods)\n",
    "    "
   ]
  },
  {
   "cell_type": "code",
   "execution_count": null,
   "metadata": {},
   "outputs": [],
   "source": []
  }
 ],
 "metadata": {
  "kernelspec": {
   "display_name": "Python 3",
   "language": "python",
   "name": "python3"
  },
  "language_info": {
   "codemirror_mode": {
    "name": "ipython",
    "version": 3
   },
   "file_extension": ".py",
   "mimetype": "text/x-python",
   "name": "python",
   "nbconvert_exporter": "python",
   "pygments_lexer": "ipython3",
   "version": "3.8.0"
  }
 },
 "nbformat": 4,
 "nbformat_minor": 4
}
