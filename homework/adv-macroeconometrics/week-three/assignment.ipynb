{
 "cells": [
  {
   "cell_type": "code",
   "execution_count": 1,
   "metadata": {},
   "outputs": [],
   "source": [
    "import os"
   ]
  },
  {
   "cell_type": "code",
   "execution_count": 2,
   "metadata": {},
   "outputs": [],
   "source": [
    "import pandas as pd\n",
    "import numpy as np\n",
    "\n",
    "np.set_printoptions(precision=3, suppress=True)\n",
    "\n",
    "pd.options.display.float_format = lambda num: f'{num:.4f}'"
   ]
  },
  {
   "cell_type": "code",
   "execution_count": 3,
   "metadata": {},
   "outputs": [],
   "source": [
    "import matplotlib.pyplot as plt\n",
    "import seaborn as sns\n",
    "\n",
    "sns.set(rc={\"figure.figsize\": (12, 8)})"
   ]
  },
  {
   "cell_type": "code",
   "execution_count": 4,
   "metadata": {},
   "outputs": [],
   "source": [
    "from utils.ingest import read_data\n",
    "from fixed_effects import within_group\n",
    "from gmm import lagged_gmm"
   ]
  },
  {
   "cell_type": "code",
   "execution_count": 5,
   "metadata": {},
   "outputs": [],
   "source": [
    "from utils.printing import np_to_pmatrix"
   ]
  },
  {
   "cell_type": "markdown",
   "metadata": {},
   "source": [
    "#### Constants"
   ]
  },
  {
   "cell_type": "code",
   "execution_count": 6,
   "metadata": {},
   "outputs": [],
   "source": [
    "data_path = \"data/hw3.xls\""
   ]
  },
  {
   "cell_type": "markdown",
   "metadata": {},
   "source": [
    "### Data inject"
   ]
  },
  {
   "cell_type": "code",
   "execution_count": 7,
   "metadata": {},
   "outputs": [],
   "source": [
    "data = read_data(data_path)"
   ]
  },
  {
   "cell_type": "markdown",
   "metadata": {},
   "source": [
    "### 2. Homogenous panel\n",
    "\n",
    "#### (a)\n",
    "\n",
    "The panel is:\n",
    "- homogenous\n",
    "- no heterogeneity in the slope parameters\n",
    "- no endogeneity\n",
    "- no cross-sectional dependence\n",
    "\n",
    "Given the assumptions, the suitable estimator is the Withing Group (or Fixed Effects) estimators."
   ]
  },
  {
   "cell_type": "code",
   "execution_count": 8,
   "metadata": {},
   "outputs": [
    {
     "name": "stdout",
     "output_type": "stream",
     "text": [
      "\n",
      "\u001b[1mWithing regression\u001b[0m:  \n",
      "\n",
      "--- β:\n",
      "\n",
      "d(lnY)   0.293056\n",
      "INF      0.179817, \n",
      "\n",
      "\n",
      "--- Standard errors:\n",
      "\n",
      "         d(lnY)      INF\n",
      "d(lnY) 0.003791 0.000090\n",
      "INF    0.000090 0.001005\n",
      "        \n",
      "--- Durbin-Watson\n",
      "1.8444  \n",
      "\n",
      "--- Pesaran\n",
      "0.0722  p=0.4712\n",
      "\n"
     ]
    }
   ],
   "source": [
    "regs = [\"d(lnY)\", \"INF\"]\n",
    "beta, fixed_effects, resid, var, dw = within_group(data, \"S/Y\", regs, lags = 0)"
   ]
  },
  {
   "cell_type": "markdown",
   "metadata": {},
   "source": [
    "#### 3. Dynamic homogenous panels\n",
    "\n",
    "Within regressor with lagged value"
   ]
  },
  {
   "cell_type": "code",
   "execution_count": 9,
   "metadata": {},
   "outputs": [
    {
     "name": "stdout",
     "output_type": "stream",
     "text": [
      "\n",
      "\u001b[1mLagged Within regression\u001b[0m:  \n",
      "\n",
      "--- β:\n",
      "\n",
      "d(lnY)      0.023697\n",
      "INF         0.021070\n",
      "lag_1_S/Y   0.848010, \n",
      "\n",
      "\n",
      "--- Standard errors:\n",
      "\n",
      "             d(lnY)       INF  lag_1_S/Y\n",
      "d(lnY)     0.000933  0.000040  -0.000186\n",
      "INF        0.000040  0.000230  -0.000102\n",
      "lag_1_S/Y -0.000186 -0.000102   0.000890\n",
      "        \n",
      "--- Durbin-Watson\n",
      "1.7572  \n",
      "\n",
      "--- Pesaran\n",
      "0.0230  p=0.4908\n",
      "\n"
     ]
    }
   ],
   "source": [
    "regs = [\"d(lnY)\", \"INF\"]\n",
    "beta, fixed_effects, resid, var, dw = within_group(data, \"S/Y\", regs, lags = 1, title=\"Lagged Within regression\")"
   ]
  },
  {
   "cell_type": "code",
   "execution_count": 18,
   "metadata": {},
   "outputs": [
    {
     "name": "stdout",
     "output_type": "stream",
     "text": [
      "\n",
      "\u001b[1mWithin regression\u001b[0m:  \n",
      "\n",
      "--- β:\n",
      "\n",
      "d(lnY)   0.293056\n",
      "INF      0.179817, \n",
      "\n",
      "\n",
      "--- Standard errors:\n",
      "\n",
      "         d(lnY)      INF\n",
      "d(lnY) 0.003791 0.000090\n",
      "INF    0.000090 0.001005\n",
      "        \n",
      "--- Durbin-Watson\n",
      "1.8444  \n",
      "\n",
      "--- Pesaran\n",
      "0.0722  p=0.4712\n",
      "\n",
      "\n",
      "\u001b[1mWithin regression\u001b[0m:  \n",
      "\n",
      "--- β:\n",
      "\n",
      "d(lnY)   0.293056\n",
      "INF      0.179817, \n",
      "\n",
      "\n",
      "--- Standard errors:\n",
      "\n",
      "          d(lnY)       INF\n",
      "d(lnY)  0.006972 -0.000141\n",
      "INF    -0.000141  0.002189\n",
      "        \n",
      "--- Durbin-Watson\n",
      "1.8444  \n",
      "\n",
      "--- Pesaran\n",
      "0.0722  p=0.4712\n",
      "\n"
     ]
    }
   ],
   "source": [
    "_ = within_group(data, \"S/Y\", [\"d(lnY)\", \"INF\"], lags = 0, title=\"Within regression\")\n",
    "_ = within_group(data, \"S/Y\", [\"d(lnY)\", \"INF\"], lags = 0, title=\"Within regression\", cross_sec=True)\n"
   ]
  },
  {
   "cell_type": "code",
   "execution_count": 11,
   "metadata": {},
   "outputs": [],
   "source": [
    "with open(\"data/cv_matrix.tex\", \"w\") as file:\n",
    "    \n",
    "    file.write(np_to_pmatrix(beta, prec = 4))"
   ]
  },
  {
   "cell_type": "markdown",
   "metadata": {},
   "source": [
    "#### 4. Enogeneity in homogenous dynamic panel"
   ]
  },
  {
   "cell_type": "code",
   "execution_count": 12,
   "metadata": {
    "scrolled": false
   },
   "outputs": [
    {
     "name": "stdout",
     "output_type": "stream",
     "text": [
      "\n",
      "\u001b[1mIV estimation of SG/Y -> S/Y\u001b[0m:  \n",
      "\n",
      "--- β:\n",
      "\n",
      "SG/Y        -0.190944\n",
      "lag_1_S/Y    0.541782, \n",
      "\n",
      "\n",
      "--- Standard errors:\n",
      "\n",
      "              SG/Y  lag_1_S/Y\n",
      "SG/Y      0.004458   0.012474\n",
      "lag_1_S/Y 0.012474   0.042449\n",
      "        \n",
      "--- Durbin-Watson\n",
      "1.7009  \n",
      "\n",
      "\n",
      "\u001b[1mGMM estimation of SG/Y -> S/Y\u001b[0m:  \n",
      "\n",
      "--- β:\n",
      "\n",
      "SG/Y        -0.122965\n",
      "lag_1_S/Y    0.802800, \n",
      "\n",
      "\n",
      "--- Standard errors:\n",
      "\n",
      "              SG/Y  lag_1_S/Y\n",
      "SG/Y      0.000629   0.000337\n",
      "lag_1_S/Y 0.000337   0.001701\n",
      "        \n",
      "--- Overidentifying Restrictions\n",
      "0.0024  p=0.9988\n",
      "\n",
      "--- Hausman\n",
      "34.5922  p=0.0000\n",
      "\n",
      "--- Durbin-Watson\n",
      "1.7923  \n",
      "\n"
     ]
    }
   ],
   "source": [
    "lags = 2\n",
    "\n",
    "\n",
    "_ = lagged_gmm(\n",
    "    data, \"S/Y\",\n",
    "    regressors=[\"SG/Y\"], lag_inst=lags, title=\"IV estimation of SG/Y -> S/Y\"\n",
    ")\n",
    "\n",
    "_ = lagged_gmm(\n",
    "    data, \"S/Y\",\n",
    "    regressors=[\"SG/Y\"], lag_inst=lags, title=\"GMM estimation of SG/Y -> S/Y\",\n",
    "    gmm=True,\n",
    "    is_lagged_instrumented=True\n",
    ")\n"
   ]
  },
  {
   "cell_type": "markdown",
   "metadata": {},
   "source": [
    "#### 5. Cross-sectional dependence in a homogeneous dynamic panel."
   ]
  },
  {
   "cell_type": "code",
   "execution_count": 13,
   "metadata": {},
   "outputs": [],
   "source": [
    "from ccep import ccep"
   ]
  },
  {
   "cell_type": "code",
   "execution_count": 14,
   "metadata": {},
   "outputs": [
    {
     "name": "stdout",
     "output_type": "stream",
     "text": [
      "\n",
      "\u001b[1mCCEP estimator\u001b[0m:  \n",
      "\n",
      "--- β:\n",
      "\n",
      "d(lnY)      0.112180\n",
      "INF         0.050982\n",
      "lag_1_S/Y   0.733041, \n",
      "\n",
      "\n",
      "--- Standard errors:\n",
      "\n",
      "             d(lnY)       INF  lag_1_S/Y\n",
      "d(lnY)     0.047324  0.006842  -0.007022\n",
      "INF        0.006842  0.018163  -0.003740\n",
      "lag_1_S/Y -0.007022 -0.003740   0.027735\n",
      "        \n"
     ]
    }
   ],
   "source": [
    "beta, resid_by_n, cov = ccep(\n",
    "        data, \"S/Y\", [\"d(lnY)\", \"INF\"],  title=\"CCEP estimator\")"
   ]
  },
  {
   "cell_type": "markdown",
   "metadata": {},
   "source": [
    "#### 6. Endogeneity"
   ]
  },
  {
   "cell_type": "code",
   "execution_count": 15,
   "metadata": {},
   "outputs": [
    {
     "name": "stdout",
     "output_type": "stream",
     "text": [
      "\n",
      "\u001b[1mIV estimation of SG/Y -> S/Y\u001b[0m:  \n",
      "\n",
      "--- β:\n",
      "\n",
      "SG/Y        -0.190944\n",
      "lag_1_S/Y    0.541782, \n",
      "\n",
      "\n",
      "--- Standard errors:\n",
      "\n",
      "              SG/Y  lag_1_S/Y\n",
      "SG/Y      0.004458   0.012474\n",
      "lag_1_S/Y 0.012474   0.042449\n",
      "        \n",
      "--- Durbin-Watson\n",
      "1.7009  \n",
      "\n",
      "\n",
      "\u001b[1mGMM estimation of SG/Y -> S/Y\u001b[0m:  \n",
      "\n",
      "--- β:\n",
      "\n",
      "SG/Y        -0.122965\n",
      "lag_1_S/Y    0.802800, \n",
      "\n",
      "\n",
      "--- Standard errors:\n",
      "\n",
      "              SG/Y  lag_1_S/Y\n",
      "SG/Y      0.000629   0.000337\n",
      "lag_1_S/Y 0.000337   0.001701\n",
      "        \n",
      "--- Overidentifying Restrictions\n",
      "0.0024  p=0.9988\n",
      "\n",
      "--- Hausman\n",
      "34.5922  p=0.0000\n",
      "\n",
      "--- Durbin-Watson\n",
      "1.7923  \n",
      "\n"
     ]
    }
   ],
   "source": [
    "_ = lagged_gmm(\n",
    "        data, \"S/Y\",\n",
    "        regressors=[\"SG/Y\"], lag_inst=2, title=\"IV estimation of SG/Y -> S/Y\"\n",
    "    )\n",
    "\n",
    "_ = lagged_gmm(\n",
    "        data, \"S/Y\",\n",
    "        regressors=[\"SG/Y\"], lag_inst=2, title=\"GMM estimation of SG/Y -> S/Y\",\n",
    "        gmm=True, is_lagged_instrumented=True\n",
    "    )"
   ]
  },
  {
   "cell_type": "markdown",
   "metadata": {},
   "source": [
    "#### 7. Heterogenous dynamic panel"
   ]
  },
  {
   "cell_type": "code",
   "execution_count": 16,
   "metadata": {},
   "outputs": [],
   "source": [
    "from mean_group import mean_group"
   ]
  },
  {
   "cell_type": "code",
   "execution_count": 17,
   "metadata": {},
   "outputs": [
    {
     "name": "stdout",
     "output_type": "stream",
     "text": [
      "\n",
      "\u001b[1mMG Estimator\u001b[0m:  \n",
      "\n",
      "--- β:\n",
      "\n",
      "U           0.004935\n",
      "lag_1_S/Y   0.040722, \n",
      "\n",
      "\n",
      "--- Standard errors:\n",
      "\n",
      "                  U  lag_1_S/Y\n",
      "U          0.000004  -0.000001\n",
      "lag_1_S/Y -0.000001   0.000005\n",
      "        \n",
      "--- Long run effect U -> S/Y\n",
      "0.0409  \n",
      "\n",
      "\n",
      "\u001b[1mCCEMG Estimator\u001b[0m:  \n",
      "\n",
      "--- β:\n",
      "\n",
      "U           -0.936113\n",
      "lag_1_S/Y    0.566169, \n",
      "\n",
      "\n",
      "--- Standard errors:\n",
      "\n",
      "                  U  lag_1_S/Y\n",
      "U          0.893532  -0.510421\n",
      "lag_1_S/Y -0.510421   0.292084\n",
      "        \n",
      "--- Long run effect U -> S/Y\n",
      "0.0221  \n",
      "\n"
     ]
    }
   ],
   "source": [
    "_ = mean_group(data, \"S/Y\", [\"U\"], lags=1, title=\"MG Estimator\", verbose=1)\n",
    "\n",
    "_ = mean_group(data, \"S/Y\", [\"U\"], lags=1, title=\"CCEMG Estimator\", cc=True, verbose=1)"
   ]
  },
  {
   "cell_type": "code",
   "execution_count": null,
   "metadata": {},
   "outputs": [],
   "source": []
  }
 ],
 "metadata": {
  "kernelspec": {
   "display_name": "Python 3",
   "language": "python",
   "name": "python3"
  },
  "language_info": {
   "codemirror_mode": {
    "name": "ipython",
    "version": 3
   },
   "file_extension": ".py",
   "mimetype": "text/x-python",
   "name": "python",
   "nbconvert_exporter": "python",
   "pygments_lexer": "ipython3",
   "version": "3.8.0"
  }
 },
 "nbformat": 4,
 "nbformat_minor": 4
}
