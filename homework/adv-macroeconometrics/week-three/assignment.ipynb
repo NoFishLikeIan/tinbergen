{
 "cells": [
  {
   "cell_type": "code",
   "execution_count": 1,
   "metadata": {},
   "outputs": [],
   "source": [
    "import os"
   ]
  },
  {
   "cell_type": "code",
   "execution_count": 2,
   "metadata": {},
   "outputs": [],
   "source": [
    "import pandas as pd\n",
    "import numpy as np\n",
    "\n",
    "np.set_printoptions(precision=3, suppress=True)\n",
    "\n",
    "pd.options.display.float_format = lambda num: f'{num:.4f}'"
   ]
  },
  {
   "cell_type": "code",
   "execution_count": 3,
   "metadata": {},
   "outputs": [],
   "source": [
    "import matplotlib.pyplot as plt\n",
    "import seaborn as sns\n",
    "\n",
    "sns.set(rc={\"figure.figsize\": (12, 8)})"
   ]
  },
  {
   "cell_type": "code",
   "execution_count": 4,
   "metadata": {},
   "outputs": [],
   "source": [
    "from utils.ingest import read_data\n",
    "from fixed_effects import within_group\n",
    "from gmm import lagged_gmm"
   ]
  },
  {
   "cell_type": "markdown",
   "metadata": {},
   "source": [
    "#### Constants"
   ]
  },
  {
   "cell_type": "code",
   "execution_count": 5,
   "metadata": {},
   "outputs": [],
   "source": [
    "data_path = \"data/hw3.xls\""
   ]
  },
  {
   "cell_type": "markdown",
   "metadata": {},
   "source": [
    "### Data inject"
   ]
  },
  {
   "cell_type": "code",
   "execution_count": 6,
   "metadata": {},
   "outputs": [],
   "source": [
    "data = read_data(data_path)"
   ]
  },
  {
   "cell_type": "markdown",
   "metadata": {},
   "source": [
    "### 1. Stationarity issues\n",
    "\n",
    "#### (a)\n",
    "\n"
   ]
  },
  {
   "cell_type": "markdown",
   "metadata": {},
   "source": [
    "### 2. Homogenous panel\n",
    "\n",
    "#### (a)\n",
    "\n",
    "The panel is:\n",
    "- homogenous\n",
    "- no heterogeneity in the slope parameters\n",
    "- no endogeneity\n",
    "- no cross-sectional dependence\n",
    "\n",
    "Given the assumptions, the suitable estimator is the Withing Group (or Fixed Effects) estimators."
   ]
  },
  {
   "cell_type": "code",
   "execution_count": 7,
   "metadata": {},
   "outputs": [
    {
     "name": "stdout",
     "output_type": "stream",
     "text": [
      "\n",
      "\u001b[1mWithing regression\u001b[0m:  \n",
      "\n",
      "--- β:\n",
      "\n",
      "d(lnY)   0.293056\n",
      "INF      0.179817, \n",
      "\n",
      "\n",
      "--- Standard errors:\n",
      "\n",
      "         d(lnY)      INF\n",
      "d(lnY) 0.017580 0.000416\n",
      "INF    0.000416 0.003499\n",
      "        \n",
      "--- Durbin-Watson\n",
      "0.0426  \n",
      "\n"
     ]
    }
   ],
   "source": [
    "regs = [\"d(lnY)\", \"INF\"]\n",
    "beta, fixed_effects, resid, var, dw = within_group(data, \"S/Y\", regs, lags = 0)"
   ]
  },
  {
   "cell_type": "markdown",
   "metadata": {},
   "source": [
    "#### 3. Dynamic homogenous panels\n",
    "\n",
    "Within regressor with lagged value"
   ]
  },
  {
   "cell_type": "code",
   "execution_count": 8,
   "metadata": {},
   "outputs": [
    {
     "name": "stdout",
     "output_type": "stream",
     "text": [
      "\n",
      "\u001b[1mLagged Within regression\u001b[0m:  \n",
      "\n",
      "--- β:\n",
      "\n",
      "d(lnY)      0.023697\n",
      "INF         0.021070\n",
      "lag_1_S/Y   0.848010, \n",
      "\n",
      "\n",
      "--- Standard errors:\n",
      "\n",
      "             d(lnY)       INF  lag_1_S/Y\n",
      "d(lnY)     0.001158  0.000059  -0.000196\n",
      "INF        0.000059  0.000318  -0.000157\n",
      "lag_1_S/Y -0.000196 -0.000157   0.001078\n",
      "        \n",
      "--- Durbin-Watson\n",
      "1.1803  \n",
      "\n"
     ]
    }
   ],
   "source": [
    "regs = [\"d(lnY)\", \"INF\"]\n",
    "beta, fixed_effects, resid, var, dw = within_group(data, \"S/Y\", regs, lags = 1, title=\"Lagged Within regression\")"
   ]
  },
  {
   "cell_type": "markdown",
   "metadata": {},
   "source": [
    "#### 4. Enogeneity in homogenous dynamic panel"
   ]
  },
  {
   "cell_type": "code",
   "execution_count": 9,
   "metadata": {},
   "outputs": [],
   "source": [
    "lags = 2"
   ]
  },
  {
   "cell_type": "code",
   "execution_count": 10,
   "metadata": {},
   "outputs": [
    {
     "name": "stdout",
     "output_type": "stream",
     "text": [
      "\n",
      "\u001b[1mIV Estimation\u001b[0m:  \n",
      "\n",
      "--- β:\n",
      "\n",
      "d(lnY)      -1.331277\n",
      "INF         -0.459295\n",
      "lag_1_S/Y    3.493394, \n",
      "\n",
      "\n",
      "--- Standard errors:\n",
      "\n",
      "              d(lnY)       INF  lag_1_S/Y\n",
      "d(lnY)      5.459203  2.315545 -13.229239\n",
      "INF         2.315545  1.009244  -5.721096\n",
      "lag_1_S/Y -13.229239 -5.721096  32.702864\n",
      "        \n",
      "--- Durbin-Watson\n",
      "0.7373  \n",
      "\n"
     ]
    }
   ],
   "source": [
    "_ = lagged_gmm(\n",
    "        data, \"S/Y\",\n",
    "        regressors=[\"d(lnY)\", \"INF\"], lag_inst=lags\n",
    "    )\n"
   ]
  },
  {
   "cell_type": "code",
   "execution_count": 11,
   "metadata": {},
   "outputs": [
    {
     "name": "stdout",
     "output_type": "stream",
     "text": [
      "\n",
      "\u001b[1mGMM Estimation\u001b[0m:  \n",
      "\n",
      "--- β:\n",
      "\n",
      "d(lnY)      -1.907793\n",
      "INF         -0.710240\n",
      "lag_1_S/Y    4.909449, \n",
      "\n",
      "\n",
      "--- Standard errors:\n",
      "\n",
      "            d(lnY)      INF  lag_1_S/Y\n",
      "d(lnY)    0.000000 0.000000   0.000000\n",
      "INF       0.000000 0.000000   0.000000\n",
      "lag_1_S/Y 0.000000 0.000000   0.000000\n",
      "        \n",
      "--- Overidentifying Restrictions\n",
      "0.3887  p=0.4670\n",
      "\n",
      "--- Durbin-Watson\n",
      "0.6272  \n",
      "\n"
     ]
    }
   ],
   "source": [
    "_ = lagged_gmm(\n",
    "        data, \"S/Y\",\n",
    "        regressors=[\"d(lnY)\", \"INF\"], lag_inst=lags,\n",
    "        gmm=True\n",
    "    )"
   ]
  },
  {
   "cell_type": "markdown",
   "metadata": {},
   "source": [
    "#### 5. Cross-sectional dependence in a homogeneous dynamic panel."
   ]
  },
  {
   "cell_type": "code",
   "execution_count": 16,
   "metadata": {},
   "outputs": [],
   "source": [
    "from itertools import permutations"
   ]
  },
  {
   "cell_type": "code",
   "execution_count": 22,
   "metadata": {},
   "outputs": [
    {
     "data": {
      "text/plain": [
       "True"
      ]
     },
     "execution_count": 22,
     "metadata": {},
     "output_type": "execute_result"
    }
   ],
   "source": [
    "np.isclose(np.zeros((2,2))[1, 1], 0.)"
   ]
  },
  {
   "cell_type": "code",
   "execution_count": null,
   "metadata": {},
   "outputs": [],
   "source": []
  }
 ],
 "metadata": {
  "kernelspec": {
   "display_name": "Python 3",
   "language": "python",
   "name": "python3"
  },
  "language_info": {
   "codemirror_mode": {
    "name": "ipython",
    "version": 3
   },
   "file_extension": ".py",
   "mimetype": "text/x-python",
   "name": "python",
   "nbconvert_exporter": "python",
   "pygments_lexer": "ipython3",
   "version": "3.8.0"
  }
 },
 "nbformat": 4,
 "nbformat_minor": 4
}
